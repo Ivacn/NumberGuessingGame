{
  "nbformat": 4,
  "nbformat_minor": 0,
  "metadata": {
    "colab": {
      "name": "number-guessing-game.ipynb",
      "provenance": [],
      "collapsed_sections": [],
      "authorship_tag": "ABX9TyOAs+bWCuXpxjfEmUwvhhpx",
      "include_colab_link": true
    },
    "kernelspec": {
      "name": "python3",
      "display_name": "Python 3"
    },
    "language_info": {
      "name": "python"
    }
  },
  "cells": [
    {
      "cell_type": "markdown",
      "metadata": {
        "id": "view-in-github",
        "colab_type": "text"
      },
      "source": [
        "<a href=\"https://colab.research.google.com/github/Ivacn/NumberGuessingGame/blob/main/number_guessing_game.ipynb\" target=\"_parent\"><img src=\"https://colab.research.google.com/assets/colab-badge.svg\" alt=\"Open In Colab\"/></a>"
      ]
    },
    {
      "cell_type": "markdown",
      "source": [
        "# **Pyhton Number Guessing game:**\n",
        "\n"
      ],
      "metadata": {
        "id": "tdJvOWnG0Blo"
      }
    },
    {
      "cell_type": "code",
      "source": [
        "import random #we have to import the random library\n",
        "\n",
        "\n",
        "class NumberGuessingGame:\n",
        "\n",
        "    def __init__(self): #we're gonna define a class for this situation\n",
        "        self.MAX_CHANCES = 10\n",
        "        self.LOWER = 1\n",
        "        self.HIGHER = 100\n",
        "\n",
        "    ## method to generate the random number\n",
        "    def get_random_num(self):\n",
        "        return random.randint(self.LOWER, self.HIGHER)\n",
        "\n",
        "    ## game start method\n",
        "    def start(self):\n",
        "        ## generating the random number\n",
        "        random_num = self.get_random_num()\n",
        "\n",
        "        print(\n",
        "            f\"Try to Guess the randomly generated number from {self.LOWER} to {self.HIGHER}\")\n",
        "\n",
        "        \n",
        "        chances=0\n",
        "        if chances == self.MAX_CHANCES:\n",
        "                print(\"-> You lost the game,sorry.You're out of chances\")\n",
        "        while True:\n",
        "            user_number = int(input(\"Please,Enter the guessed number: \"))\n",
        "            if user_number == random_num:\n",
        "                print(\n",
        "                    f\"-> You got it in {chances + 1} step{'s' if chances > 1 else ''}!\")\n",
        "                break\n",
        "            elif user_number < random_num:\n",
        "                print(\"-> Your guessing number is less than the random number\")\n",
        "            else:\n",
        "                print(\"-> Your guessing number is greater than the random number\")\n",
        "            chances += 1\n",
        "\n",
        "## instantiating and starting the game\n",
        "numberGuessingGame = NumberGuessingGame()\n",
        "numberGuessingGame.start()"
      ],
      "metadata": {
        "colab": {
          "base_uri": "https://localhost:8080/"
        },
        "id": "pahrCaDmBzqt",
        "outputId": "f16b523c-fe06-44a5-ed6e-5b9f70002b6d"
      },
      "execution_count": null,
      "outputs": [
        {
          "output_type": "stream",
          "name": "stdout",
          "text": [
            "Try to Guess the randomly generated number from 1 to 100\n",
            "Please,Enter the guessed number: 85\n",
            "-> Your guessing number is greater than the random number\n",
            "Please,Enter the guessed number: 100\n",
            "-> Your guessing number is greater than the random number\n"
          ]
        }
      ]
    }
  ]
}